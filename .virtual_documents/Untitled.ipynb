# import os
# from glob import glob
# import cv2 as cv
# import numpy as np

# categories = ['clean', 'messy']
# data_dir = {'train': './images/train', 'val': './images/val'}


# def load_data():
#     """96 images per class in training set, 10 images per class in validation set"""

#     x_train = list()
#     x_val = list()
#     y_train = list()
#     y_val = list()

#     for dataset, path in data_dir.items():
#         for i, cat in enumerate(categories):
#             cur_dir = os.path.join(path, cat)
#             filenames = glob(os.path.join(cur_dir, '*.png'))
#             for file in filenames:
#                 img = cv.imread(file)
#                 if dataset == 'train':
#                     x_train.append(img)
#                     y_train.append(i)
#                 else:
#                     x_val.append(img)
#                     y_val.append(i)

#     x_train = np.asarray(x_train)
#     y_train = np.asarray(y_train)
#     x_val = np.asarray(x_val)
#     y_val = np.asarray(y_val)

#     return (x_train, y_train), (x_val, y_val)


# # save the dataset
# room_dataset = load_data()
# np.save('room_dataset.npy', room_dataset)


# This code cell is to get rid of annoying tensorflow warnings
import os
os.environ['TF_CPP_MIN_LOG_LEVEL'] = '2'


import numpy as np
import pandas as pd
import matplotlib.pyplot as plt
import tensorflow as tf


(x_train, y_train), (x_test, y_test) = np.load("room_dataset.npy", allow_pickle=True)


x_train.shape


y_train.shape


x_train, x_test = x_train / 255.0, x_test / 255.0


model = tf.keras.models.Sequential([
  tf.keras.layers.Flatten(input_shape=(299, 299, 3)),
  tf.keras.layers.Dense(256, activation='relu'),
  tf.keras.layers.Dropout(0.45),
  tf.keras.layers.Dense(2, activation='softmax')
])



model.compile(optimizer='adamax',
              loss='sparse_categorical_crossentropy',
              metrics=['accuracy'])


model.fit(x_train, y_train, epochs=20)


ans = np.argmax(model.predict(x_test), 1)


ans


condition = ["clean", "messy"]


plt.figure(figsize=(12,12))

for i in range(20):
    plt.subplot(5, 4,i+1)
    plt.imshow(x_test[i])
    plt.axis('off')
    plt.title(condition[ans[i]])

plt.show()



